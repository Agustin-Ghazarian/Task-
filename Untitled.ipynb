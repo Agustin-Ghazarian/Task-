{
  "metadata": {
    "language_info": {
      "codemirror_mode": {
        "name": "python",
        "version": 3
      },
      "file_extension": ".py",
      "mimetype": "text/x-python",
      "name": "python",
      "nbconvert_exporter": "python",
      "pygments_lexer": "ipython3",
      "version": "3.8"
    },
    "kernelspec": {
      "name": "python",
      "display_name": "Pyolite",
      "language": "python"
    }
  },
  "nbformat_minor": 4,
  "nbformat": 4,
  "cells": [
    {
      "cell_type": "markdown",
      "source": "# Header 1 My Jupyter Notebook on IBM Watson Studio",
      "metadata": {}
    },
    {
      "cell_type": "markdown",
      "source": "**Agustín Ghazarian**\n\nEngineer",
      "metadata": {}
    },
    {
      "cell_type": "markdown",
      "source": "*I am interested in data science because it is a great tool for taking decisions. I believe addingg data science tools to my resume will open many doors.*",
      "metadata": {}
    },
    {
      "cell_type": "markdown",
      "source": "# Header 3 My code in line 5 should multiply 1 by 2.",
      "metadata": {}
    },
    {
      "cell_type": "code",
      "source": "1*2",
      "metadata": {
        "trusted": true
      },
      "execution_count": 1,
      "outputs": [
        {
          "execution_count": 1,
          "output_type": "execute_result",
          "data": {
            "text/plain": "2"
          },
          "metadata": {}
        }
      ]
    },
    {
      "cell_type": "markdown",
      "source": "Hello\n\n---\n\n[Google](https://www.google.com)\n\n```python\ns = \"Python syntax highlighting\"\nprint s\n```\n",
      "metadata": {}
    }
  ]
}